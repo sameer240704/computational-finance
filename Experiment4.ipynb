{
 "cells": [
  {
   "cell_type": "code",
   "execution_count": 9,
   "metadata": {},
   "outputs": [],
   "source": [
    "import numpy as np\n",
    "import pandas as pd"
   ]
  },
  {
   "cell_type": "markdown",
   "metadata": {},
   "source": [
    "\n",
    "### EMI = (P * R * (1 + R) ^ N) / ((1 + R) ^ N) − 1"
   ]
  },
  {
   "cell_type": "code",
   "execution_count": 10,
   "metadata": {},
   "outputs": [],
   "source": [
    "def calculate_emi(principal, annual_rate, years):\n",
    "    monthly_rate = (annual_rate / 100) / 12\n",
    "    \n",
    "    total_months = years * 12\n",
    "\n",
    "    emi = (principal * monthly_rate * (1 + monthly_rate) ** total_months) / ((1 + monthly_rate) ** total_months - 1)\n",
    "    \n",
    "    return emi\n"
   ]
  },
  {
   "cell_type": "code",
   "execution_count": 11,
   "metadata": {},
   "outputs": [],
   "source": [
    "principal = float(input(\"Enter the loan amount (₹): \"))\n",
    "annual_rate = float(input(\"Enter the annual interest rate (%): \"))\n",
    "years = int(input(\"Enter the loan tenure (years): \"))"
   ]
  },
  {
   "cell_type": "code",
   "execution_count": 12,
   "metadata": {},
   "outputs": [],
   "source": [
    "emi = calculate_emi(principal, annual_rate, years)"
   ]
  },
  {
   "cell_type": "code",
   "execution_count": 13,
   "metadata": {},
   "outputs": [
    {
     "name": "stdout",
     "output_type": "stream",
     "text": [
      "\n",
      "Monthly Installment (EMI) to be paid: ₹2326.83\n"
     ]
    }
   ],
   "source": [
    "print(f\"\\nMonthly Installment (EMI) to be paid: ₹{emi:.2f}\")"
   ]
  }
 ],
 "metadata": {
  "kernelspec": {
   "display_name": "gpu-env",
   "language": "python",
   "name": "python3"
  },
  "language_info": {
   "codemirror_mode": {
    "name": "ipython",
    "version": 3
   },
   "file_extension": ".py",
   "mimetype": "text/x-python",
   "name": "python",
   "nbconvert_exporter": "python",
   "pygments_lexer": "ipython3",
   "version": "3.12.8"
  }
 },
 "nbformat": 4,
 "nbformat_minor": 2
}
